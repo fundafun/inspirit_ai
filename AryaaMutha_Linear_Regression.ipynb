{
  "nbformat": 4,
  "nbformat_minor": 0,
  "metadata": {
    "colab": {
      "provenance": []
    },
    "language_info": {
      "codemirror_mode": {
        "name": "ipython",
        "version": 3
      },
      "file_extension": ".py",
      "mimetype": "text/x-python",
      "name": "python",
      "nbconvert_exporter": "python",
      "pygments_lexer": "ipython3",
      "version": "3.6.8"
    },
    "kernelspec": {
      "display_name": "Python 3",
      "language": "python",
      "name": "python3"
    }
  },
  "cells": [
    {
      "cell_type": "markdown",
      "metadata": {
        "id": "TiM6gYg0nhkY"
      },
      "source": [
        "<font color=\"#de3023\"><h1><b>REMINDER: MAKE A COPY OF THIS NOTEBOOK, DO NOT EDIT</b></h1></font>"
      ]
    },
    {
      "cell_type": "markdown",
      "metadata": {
        "id": "UZnEnGz8aNi6"
      },
      "source": [
        "![](https://stimg.cardekho.com/pwa/img/CarDekho-Logo.svg)"
      ]
    },
    {
      "cell_type": "markdown",
      "metadata": {
        "id": "zUo9E0C_hdMI"
      },
      "source": [
        "<h1> 🚗 Introduction to Linear Regression: Buying the Right Car </h1>\n",
        "\n"
      ]
    },
    {
      "cell_type": "markdown",
      "source": [],
      "metadata": {
        "id": "lE1hBQK_wBb-"
      }
    },
    {
      "cell_type": "markdown",
      "metadata": {
        "id": "h0qdbJsIZzTC"
      },
      "source": [
        "# **Introduction**\n"
      ]
    },
    {
      "cell_type": "markdown",
      "metadata": {
        "id": "INvuUkKxZ2H1"
      },
      "source": [
        "Imagine this...\n",
        "\n",
        "You've been working for a year as a data expert and finally save enough money to buy a car. Being a thrifty data expert, you want to get the best bang for your buck.\n",
        "\n",
        "Imagine that you also have data from the car website [CarDekho](https://www.cardekho.com/), which has information on a wide variety of cars, including their price. You realize that you can use that data to make sure you get a good deal on a new car. In particular, you can figure out exactly how much you should pay for a specific type of car. This can be especially helpful if you run into a tricky car salesperson!\n",
        "\n",
        "But the question is how can you use the data to figure out how much you should pay?\n",
        "\n",
        "You can use Linear Regression!\n",
        "\n",
        "Linear Regression is a method for discovering the relationship between two variables in the dataset, such as price of the car and the year it was made. Data Scientists rely on this method for solving a wide range of problems, especially when it comes to prediction.\n",
        "\n",
        "Let's get started!\n",
        "\n",
        "**In this notebook, we'll:**\n",
        "- Fetch and explore a dataset of cars\n",
        "- Visualize our dataset with graphs\n",
        "- Use linear regression to make predictions\n",
        "- Optional: Use multiple linear regression to make better predictions\n",
        "- Challenge: Discover the best-value cars!\n"
      ]
    },
    {
      "cell_type": "markdown",
      "metadata": {
        "id": "d-zYd2aI8Lt4"
      },
      "source": [
        "#**Fetching the Data**\n",
        "\n",
        "\n"
      ]
    },
    {
      "cell_type": "markdown",
      "metadata": {
        "id": "jaxKGdjzGj9e"
      },
      "source": [
        "We will use a very common data science library called `Pandas` to load the dataset into this notebook. Using `pandas` we can read our datafile (`car_dekho.csv`) with the line below. Our data will then be assigned and stored under the variable `car_data`.\n"
      ]
    },
    {
      "cell_type": "code",
      "metadata": {
        "id": "rPGdfBzdvxwD",
        "colab": {
          "base_uri": "https://localhost:8080/"
        },
        "outputId": "698b2020-b14c-4da4-e782-82f5ae91aebc"
      },
      "source": [
        "#@title Run this to import libraries and your data! { display-mode: \"form\" }\n",
        "import pandas as pd   # Great for tables (google spreadsheets, microsoft excel, csv).\n",
        "import os # Good for navigating your computer's files\n",
        "\n",
        "# Our dataset is hosted on Google Cloud. Here's how we can grab it:\n",
        "!wget -q --show-progress \"https://storage.googleapis.com/inspirit-ai-data-bucket-1/Data/AI%20Scholars/Sessions%201%20-%205/Session%202a%20-%20Linear%20Regression/car_dekho.csv\"\n",
        "\n",
        "# Quiet deprecation warnings\n",
        "import warnings\n",
        "warnings.filterwarnings(\"ignore\")"
      ],
      "execution_count": 1,
      "outputs": [
        {
          "output_type": "stream",
          "name": "stdout",
          "text": [
            "\rcar_dekho.csv         0%[                    ]       0  --.-KB/s               \rcar_dekho.csv       100%[===================>]  13.91K  --.-KB/s    in 0s      \n"
          ]
        }
      ]
    },
    {
      "cell_type": "code",
      "metadata": {
        "id": "mbwTcjiE4FGx"
      },
      "source": [
        "# read our data in using 'pd.read_csv('file')'\n",
        "data_path  = 'car_dekho.csv'\n",
        "car_data = pd.read_csv(data_path)"
      ],
      "execution_count": 3,
      "outputs": []
    },
    {
      "cell_type": "markdown",
      "metadata": {
        "id": "v5GSzhiPxP61"
      },
      "source": [
        "# **Exploring the Data**\n",
        "\n",
        "\n"
      ]
    },
    {
      "cell_type": "markdown",
      "metadata": {
        "id": "MyhuZhuhGquy"
      },
      "source": [
        "Great! Now that we have the data from CarDekho we can start exploring it. Running the cell below will output the first five rows in the data. Each row corresponds to a specific car on sale and each column details information about that car. See if you can already spot any pieces of information that might help you find your perfect car.\n"
      ]
    },
    {
      "cell_type": "code",
      "metadata": {
        "id": "l6Cu2xokskC9",
        "colab": {
          "base_uri": "https://localhost:8080/",
          "height": 224
        },
        "outputId": "ee908349-c935-49c3-9ee8-b8ce3d59e0f6"
      },
      "source": [
        "# let's look at our 'dataframe'. Dataframes are just like google or excel spreadsheets.\n",
        "# use the 'head' method to show the first five rows of the table as well as their names.\n",
        "car_data.head()"
      ],
      "execution_count": 4,
      "outputs": [
        {
          "output_type": "execute_result",
          "data": {
            "text/plain": [
              "  Car_Name  Age  Selling_Price  Kms_Driven Fuel_Type Seller_Type Transmission\n",
              "0     ritz    5           3.35       27000    Petrol      Dealer       Manual\n",
              "1      sx4    6           4.75       43000    Diesel      Dealer       Manual\n",
              "2     ciaz    2           7.25        6900    Petrol      Dealer       Manual\n",
              "3  wagon r    8           2.85        5200    Petrol      Dealer       Manual\n",
              "4    swift    5           4.60       42450    Diesel      Dealer       Manual"
            ],
            "text/html": [
              "\n",
              "  <div id=\"df-3433f677-cb7a-44ce-944b-71b8aefbcb0c\" class=\"colab-df-container\">\n",
              "    <div>\n",
              "<style scoped>\n",
              "    .dataframe tbody tr th:only-of-type {\n",
              "        vertical-align: middle;\n",
              "    }\n",
              "\n",
              "    .dataframe tbody tr th {\n",
              "        vertical-align: top;\n",
              "    }\n",
              "\n",
              "    .dataframe thead th {\n",
              "        text-align: right;\n",
              "    }\n",
              "</style>\n",
              "<table border=\"1\" class=\"dataframe\">\n",
              "  <thead>\n",
              "    <tr style=\"text-align: right;\">\n",
              "      <th></th>\n",
              "      <th>Car_Name</th>\n",
              "      <th>Age</th>\n",
              "      <th>Selling_Price</th>\n",
              "      <th>Kms_Driven</th>\n",
              "      <th>Fuel_Type</th>\n",
              "      <th>Seller_Type</th>\n",
              "      <th>Transmission</th>\n",
              "    </tr>\n",
              "  </thead>\n",
              "  <tbody>\n",
              "    <tr>\n",
              "      <th>0</th>\n",
              "      <td>ritz</td>\n",
              "      <td>5</td>\n",
              "      <td>3.35</td>\n",
              "      <td>27000</td>\n",
              "      <td>Petrol</td>\n",
              "      <td>Dealer</td>\n",
              "      <td>Manual</td>\n",
              "    </tr>\n",
              "    <tr>\n",
              "      <th>1</th>\n",
              "      <td>sx4</td>\n",
              "      <td>6</td>\n",
              "      <td>4.75</td>\n",
              "      <td>43000</td>\n",
              "      <td>Diesel</td>\n",
              "      <td>Dealer</td>\n",
              "      <td>Manual</td>\n",
              "    </tr>\n",
              "    <tr>\n",
              "      <th>2</th>\n",
              "      <td>ciaz</td>\n",
              "      <td>2</td>\n",
              "      <td>7.25</td>\n",
              "      <td>6900</td>\n",
              "      <td>Petrol</td>\n",
              "      <td>Dealer</td>\n",
              "      <td>Manual</td>\n",
              "    </tr>\n",
              "    <tr>\n",
              "      <th>3</th>\n",
              "      <td>wagon r</td>\n",
              "      <td>8</td>\n",
              "      <td>2.85</td>\n",
              "      <td>5200</td>\n",
              "      <td>Petrol</td>\n",
              "      <td>Dealer</td>\n",
              "      <td>Manual</td>\n",
              "    </tr>\n",
              "    <tr>\n",
              "      <th>4</th>\n",
              "      <td>swift</td>\n",
              "      <td>5</td>\n",
              "      <td>4.60</td>\n",
              "      <td>42450</td>\n",
              "      <td>Diesel</td>\n",
              "      <td>Dealer</td>\n",
              "      <td>Manual</td>\n",
              "    </tr>\n",
              "  </tbody>\n",
              "</table>\n",
              "</div>\n",
              "    <div class=\"colab-df-buttons\">\n",
              "\n",
              "  <div class=\"colab-df-container\">\n",
              "    <button class=\"colab-df-convert\" onclick=\"convertToInteractive('df-3433f677-cb7a-44ce-944b-71b8aefbcb0c')\"\n",
              "            title=\"Convert this dataframe to an interactive table.\"\n",
              "            style=\"display:none;\">\n",
              "\n",
              "  <svg xmlns=\"http://www.w3.org/2000/svg\" height=\"24px\" viewBox=\"0 -960 960 960\">\n",
              "    <path d=\"M120-120v-720h720v720H120Zm60-500h600v-160H180v160Zm220 220h160v-160H400v160Zm0 220h160v-160H400v160ZM180-400h160v-160H180v160Zm440 0h160v-160H620v160ZM180-180h160v-160H180v160Zm440 0h160v-160H620v160Z\"/>\n",
              "  </svg>\n",
              "    </button>\n",
              "\n",
              "  <style>\n",
              "    .colab-df-container {\n",
              "      display:flex;\n",
              "      gap: 12px;\n",
              "    }\n",
              "\n",
              "    .colab-df-convert {\n",
              "      background-color: #E8F0FE;\n",
              "      border: none;\n",
              "      border-radius: 50%;\n",
              "      cursor: pointer;\n",
              "      display: none;\n",
              "      fill: #1967D2;\n",
              "      height: 32px;\n",
              "      padding: 0 0 0 0;\n",
              "      width: 32px;\n",
              "    }\n",
              "\n",
              "    .colab-df-convert:hover {\n",
              "      background-color: #E2EBFA;\n",
              "      box-shadow: 0px 1px 2px rgba(60, 64, 67, 0.3), 0px 1px 3px 1px rgba(60, 64, 67, 0.15);\n",
              "      fill: #174EA6;\n",
              "    }\n",
              "\n",
              "    .colab-df-buttons div {\n",
              "      margin-bottom: 4px;\n",
              "    }\n",
              "\n",
              "    [theme=dark] .colab-df-convert {\n",
              "      background-color: #3B4455;\n",
              "      fill: #D2E3FC;\n",
              "    }\n",
              "\n",
              "    [theme=dark] .colab-df-convert:hover {\n",
              "      background-color: #434B5C;\n",
              "      box-shadow: 0px 1px 3px 1px rgba(0, 0, 0, 0.15);\n",
              "      filter: drop-shadow(0px 1px 2px rgba(0, 0, 0, 0.3));\n",
              "      fill: #FFFFFF;\n",
              "    }\n",
              "  </style>\n",
              "\n",
              "    <script>\n",
              "      const buttonEl =\n",
              "        document.querySelector('#df-3433f677-cb7a-44ce-944b-71b8aefbcb0c button.colab-df-convert');\n",
              "      buttonEl.style.display =\n",
              "        google.colab.kernel.accessAllowed ? 'block' : 'none';\n",
              "\n",
              "      async function convertToInteractive(key) {\n",
              "        const element = document.querySelector('#df-3433f677-cb7a-44ce-944b-71b8aefbcb0c');\n",
              "        const dataTable =\n",
              "          await google.colab.kernel.invokeFunction('convertToInteractive',\n",
              "                                                    [key], {});\n",
              "        if (!dataTable) return;\n",
              "\n",
              "        const docLinkHtml = 'Like what you see? Visit the ' +\n",
              "          '<a target=\"_blank\" href=https://colab.research.google.com/notebooks/data_table.ipynb>data table notebook</a>'\n",
              "          + ' to learn more about interactive tables.';\n",
              "        element.innerHTML = '';\n",
              "        dataTable['output_type'] = 'display_data';\n",
              "        await google.colab.output.renderOutput(dataTable, element);\n",
              "        const docLink = document.createElement('div');\n",
              "        docLink.innerHTML = docLinkHtml;\n",
              "        element.appendChild(docLink);\n",
              "      }\n",
              "    </script>\n",
              "  </div>\n",
              "\n",
              "\n",
              "<div id=\"df-9f57e242-8248-4f5c-8c1d-168dc66edec4\">\n",
              "  <button class=\"colab-df-quickchart\" onclick=\"quickchart('df-9f57e242-8248-4f5c-8c1d-168dc66edec4')\"\n",
              "            title=\"Suggest charts\"\n",
              "            style=\"display:none;\">\n",
              "\n",
              "<svg xmlns=\"http://www.w3.org/2000/svg\" height=\"24px\"viewBox=\"0 0 24 24\"\n",
              "     width=\"24px\">\n",
              "    <g>\n",
              "        <path d=\"M19 3H5c-1.1 0-2 .9-2 2v14c0 1.1.9 2 2 2h14c1.1 0 2-.9 2-2V5c0-1.1-.9-2-2-2zM9 17H7v-7h2v7zm4 0h-2V7h2v10zm4 0h-2v-4h2v4z\"/>\n",
              "    </g>\n",
              "</svg>\n",
              "  </button>\n",
              "\n",
              "<style>\n",
              "  .colab-df-quickchart {\n",
              "      --bg-color: #E8F0FE;\n",
              "      --fill-color: #1967D2;\n",
              "      --hover-bg-color: #E2EBFA;\n",
              "      --hover-fill-color: #174EA6;\n",
              "      --disabled-fill-color: #AAA;\n",
              "      --disabled-bg-color: #DDD;\n",
              "  }\n",
              "\n",
              "  [theme=dark] .colab-df-quickchart {\n",
              "      --bg-color: #3B4455;\n",
              "      --fill-color: #D2E3FC;\n",
              "      --hover-bg-color: #434B5C;\n",
              "      --hover-fill-color: #FFFFFF;\n",
              "      --disabled-bg-color: #3B4455;\n",
              "      --disabled-fill-color: #666;\n",
              "  }\n",
              "\n",
              "  .colab-df-quickchart {\n",
              "    background-color: var(--bg-color);\n",
              "    border: none;\n",
              "    border-radius: 50%;\n",
              "    cursor: pointer;\n",
              "    display: none;\n",
              "    fill: var(--fill-color);\n",
              "    height: 32px;\n",
              "    padding: 0;\n",
              "    width: 32px;\n",
              "  }\n",
              "\n",
              "  .colab-df-quickchart:hover {\n",
              "    background-color: var(--hover-bg-color);\n",
              "    box-shadow: 0 1px 2px rgba(60, 64, 67, 0.3), 0 1px 3px 1px rgba(60, 64, 67, 0.15);\n",
              "    fill: var(--button-hover-fill-color);\n",
              "  }\n",
              "\n",
              "  .colab-df-quickchart-complete:disabled,\n",
              "  .colab-df-quickchart-complete:disabled:hover {\n",
              "    background-color: var(--disabled-bg-color);\n",
              "    fill: var(--disabled-fill-color);\n",
              "    box-shadow: none;\n",
              "  }\n",
              "\n",
              "  .colab-df-spinner {\n",
              "    border: 2px solid var(--fill-color);\n",
              "    border-color: transparent;\n",
              "    border-bottom-color: var(--fill-color);\n",
              "    animation:\n",
              "      spin 1s steps(1) infinite;\n",
              "  }\n",
              "\n",
              "  @keyframes spin {\n",
              "    0% {\n",
              "      border-color: transparent;\n",
              "      border-bottom-color: var(--fill-color);\n",
              "      border-left-color: var(--fill-color);\n",
              "    }\n",
              "    20% {\n",
              "      border-color: transparent;\n",
              "      border-left-color: var(--fill-color);\n",
              "      border-top-color: var(--fill-color);\n",
              "    }\n",
              "    30% {\n",
              "      border-color: transparent;\n",
              "      border-left-color: var(--fill-color);\n",
              "      border-top-color: var(--fill-color);\n",
              "      border-right-color: var(--fill-color);\n",
              "    }\n",
              "    40% {\n",
              "      border-color: transparent;\n",
              "      border-right-color: var(--fill-color);\n",
              "      border-top-color: var(--fill-color);\n",
              "    }\n",
              "    60% {\n",
              "      border-color: transparent;\n",
              "      border-right-color: var(--fill-color);\n",
              "    }\n",
              "    80% {\n",
              "      border-color: transparent;\n",
              "      border-right-color: var(--fill-color);\n",
              "      border-bottom-color: var(--fill-color);\n",
              "    }\n",
              "    90% {\n",
              "      border-color: transparent;\n",
              "      border-bottom-color: var(--fill-color);\n",
              "    }\n",
              "  }\n",
              "</style>\n",
              "\n",
              "  <script>\n",
              "    async function quickchart(key) {\n",
              "      const quickchartButtonEl =\n",
              "        document.querySelector('#' + key + ' button');\n",
              "      quickchartButtonEl.disabled = true;  // To prevent multiple clicks.\n",
              "      quickchartButtonEl.classList.add('colab-df-spinner');\n",
              "      try {\n",
              "        const charts = await google.colab.kernel.invokeFunction(\n",
              "            'suggestCharts', [key], {});\n",
              "      } catch (error) {\n",
              "        console.error('Error during call to suggestCharts:', error);\n",
              "      }\n",
              "      quickchartButtonEl.classList.remove('colab-df-spinner');\n",
              "      quickchartButtonEl.classList.add('colab-df-quickchart-complete');\n",
              "    }\n",
              "    (() => {\n",
              "      let quickchartButtonEl =\n",
              "        document.querySelector('#df-9f57e242-8248-4f5c-8c1d-168dc66edec4 button');\n",
              "      quickchartButtonEl.style.display =\n",
              "        google.colab.kernel.accessAllowed ? 'block' : 'none';\n",
              "    })();\n",
              "  </script>\n",
              "</div>\n",
              "\n",
              "    </div>\n",
              "  </div>\n"
            ],
            "application/vnd.google.colaboratory.intrinsic+json": {
              "type": "dataframe",
              "variable_name": "car_data",
              "summary": "{\n  \"name\": \"car_data\",\n  \"rows\": 301,\n  \"fields\": [\n    {\n      \"column\": \"Car_Name\",\n      \"properties\": {\n        \"dtype\": \"category\",\n        \"num_unique_values\": 98,\n        \"samples\": [\n          \"Hero Passion Pro\",\n          \"Honda CB Hornet 160R\",\n          \"city\"\n        ],\n        \"semantic_type\": \"\",\n        \"description\": \"\"\n      }\n    },\n    {\n      \"column\": \"Age\",\n      \"properties\": {\n        \"dtype\": \"number\",\n        \"std\": 2,\n        \"min\": 1,\n        \"max\": 16,\n        \"num_unique_values\": 16,\n        \"samples\": [\n          5,\n          6,\n          4\n        ],\n        \"semantic_type\": \"\",\n        \"description\": \"\"\n      }\n    },\n    {\n      \"column\": \"Selling_Price\",\n      \"properties\": {\n        \"dtype\": \"number\",\n        \"std\": 5.082811556177803,\n        \"min\": 0.1,\n        \"max\": 35.0,\n        \"num_unique_values\": 156,\n        \"samples\": [\n          0.4,\n          7.05,\n          0.9\n        ],\n        \"semantic_type\": \"\",\n        \"description\": \"\"\n      }\n    },\n    {\n      \"column\": \"Kms_Driven\",\n      \"properties\": {\n        \"dtype\": \"number\",\n        \"std\": 38886,\n        \"min\": 500,\n        \"max\": 500000,\n        \"num_unique_values\": 206,\n        \"samples\": [\n          41678,\n          42367,\n          60076\n        ],\n        \"semantic_type\": \"\",\n        \"description\": \"\"\n      }\n    },\n    {\n      \"column\": \"Fuel_Type\",\n      \"properties\": {\n        \"dtype\": \"category\",\n        \"num_unique_values\": 3,\n        \"samples\": [\n          \"Petrol\",\n          \"Diesel\",\n          \"CNG\"\n        ],\n        \"semantic_type\": \"\",\n        \"description\": \"\"\n      }\n    },\n    {\n      \"column\": \"Seller_Type\",\n      \"properties\": {\n        \"dtype\": \"category\",\n        \"num_unique_values\": 2,\n        \"samples\": [\n          \"Individual\",\n          \"Dealer\"\n        ],\n        \"semantic_type\": \"\",\n        \"description\": \"\"\n      }\n    },\n    {\n      \"column\": \"Transmission\",\n      \"properties\": {\n        \"dtype\": \"category\",\n        \"num_unique_values\": 2,\n        \"samples\": [\n          \"Automatic\",\n          \"Manual\"\n        ],\n        \"semantic_type\": \"\",\n        \"description\": \"\"\n      }\n    }\n  ]\n}"
            }
          },
          "metadata": {},
          "execution_count": 4
        }
      ]
    },
    {
      "cell_type": "markdown",
      "metadata": {
        "id": "epUu2iXvoGSh"
      },
      "source": [
        "**You'll probably wonder: what are the units of selling price? What does 3.35 mean?! Selling price is actually in lakhs.**"
      ]
    },
    {
      "cell_type": "markdown",
      "metadata": {
        "id": "VFDloI47yp4Q"
      },
      "source": [
        "Here is a visual representation of the dataset above. ![carcharts.png](https://i.postimg.cc/bNyjtBFT/Screen-Shot-2019-06-06-at-8-04-46-PM.png)\n"
      ]
    },
    {
      "cell_type": "markdown",
      "metadata": {
        "id": "xffj1ubcOrjW"
      },
      "source": [
        "## What do the columns in the data table represent?"
      ]
    },
    {
      "cell_type": "markdown",
      "metadata": {
        "id": "lxit_o6Lz2C_"
      },
      "source": [
        "Before diving deeper into the data we need to know what kind of information we have on each car. This is exactly what the columns in the data table are telling us.\n",
        "\n",
        "You can think about these columns as being the raw ingredients of any future model we build. A good cook knows about every ingredient they are using. Likewise, we need to know about each variable (column) in our dataset. Below are explanations of each one.\n",
        "\n",
        "* `Car_Name`: This column should be filled with the name of the car.\n",
        "\n",
        "* `Age`: The number of years since the car was made.\n",
        "\n",
        "* `Selling_Price`: The price the owner wants to sell the car at.\n",
        "\n",
        "* `Kms_Driven`: This is the distance completed by the car in km.\n",
        "\n",
        "* `Fuel_Type`: Fuel type of the car.\n",
        "\n",
        "* `Seller_Type`: Defines whether the seller is a dealer or an individual.\n",
        "\n",
        "* `Transmission`: Defines whether the car is manual or automatic.\n",
        "\n"
      ]
    },
    {
      "cell_type": "markdown",
      "metadata": {
        "id": "zm2lRfNQQLrc"
      },
      "source": [
        "Using code we can select columns in our data table to inspect them more closely. In the cell below we select the `Fuel_Type` column from our `car_data` variable (which is a dataframe) and then we output the first five rows using `.head()`"
      ]
    },
    {
      "cell_type": "code",
      "metadata": {
        "id": "EHTwpnHHQnxE",
        "colab": {
          "base_uri": "https://localhost:8080/",
          "height": 204
        },
        "outputId": "c827cc5f-6b4a-4860-ebca-32621b62b583"
      },
      "source": [
        "car_data[['Fuel_Type']].head()"
      ],
      "execution_count": 5,
      "outputs": [
        {
          "output_type": "execute_result",
          "data": {
            "text/plain": [
              "  Fuel_Type\n",
              "0    Petrol\n",
              "1    Diesel\n",
              "2    Petrol\n",
              "3    Petrol\n",
              "4    Diesel"
            ],
            "text/html": [
              "\n",
              "  <div id=\"df-df80ce33-1e1b-4b04-955d-18229c8bdc1b\" class=\"colab-df-container\">\n",
              "    <div>\n",
              "<style scoped>\n",
              "    .dataframe tbody tr th:only-of-type {\n",
              "        vertical-align: middle;\n",
              "    }\n",
              "\n",
              "    .dataframe tbody tr th {\n",
              "        vertical-align: top;\n",
              "    }\n",
              "\n",
              "    .dataframe thead th {\n",
              "        text-align: right;\n",
              "    }\n",
              "</style>\n",
              "<table border=\"1\" class=\"dataframe\">\n",
              "  <thead>\n",
              "    <tr style=\"text-align: right;\">\n",
              "      <th></th>\n",
              "      <th>Fuel_Type</th>\n",
              "    </tr>\n",
              "  </thead>\n",
              "  <tbody>\n",
              "    <tr>\n",
              "      <th>0</th>\n",
              "      <td>Petrol</td>\n",
              "    </tr>\n",
              "    <tr>\n",
              "      <th>1</th>\n",
              "      <td>Diesel</td>\n",
              "    </tr>\n",
              "    <tr>\n",
              "      <th>2</th>\n",
              "      <td>Petrol</td>\n",
              "    </tr>\n",
              "    <tr>\n",
              "      <th>3</th>\n",
              "      <td>Petrol</td>\n",
              "    </tr>\n",
              "    <tr>\n",
              "      <th>4</th>\n",
              "      <td>Diesel</td>\n",
              "    </tr>\n",
              "  </tbody>\n",
              "</table>\n",
              "</div>\n",
              "    <div class=\"colab-df-buttons\">\n",
              "\n",
              "  <div class=\"colab-df-container\">\n",
              "    <button class=\"colab-df-convert\" onclick=\"convertToInteractive('df-df80ce33-1e1b-4b04-955d-18229c8bdc1b')\"\n",
              "            title=\"Convert this dataframe to an interactive table.\"\n",
              "            style=\"display:none;\">\n",
              "\n",
              "  <svg xmlns=\"http://www.w3.org/2000/svg\" height=\"24px\" viewBox=\"0 -960 960 960\">\n",
              "    <path d=\"M120-120v-720h720v720H120Zm60-500h600v-160H180v160Zm220 220h160v-160H400v160Zm0 220h160v-160H400v160ZM180-400h160v-160H180v160Zm440 0h160v-160H620v160ZM180-180h160v-160H180v160Zm440 0h160v-160H620v160Z\"/>\n",
              "  </svg>\n",
              "    </button>\n",
              "\n",
              "  <style>\n",
              "    .colab-df-container {\n",
              "      display:flex;\n",
              "      gap: 12px;\n",
              "    }\n",
              "\n",
              "    .colab-df-convert {\n",
              "      background-color: #E8F0FE;\n",
              "      border: none;\n",
              "      border-radius: 50%;\n",
              "      cursor: pointer;\n",
              "      display: none;\n",
              "      fill: #1967D2;\n",
              "      height: 32px;\n",
              "      padding: 0 0 0 0;\n",
              "      width: 32px;\n",
              "    }\n",
              "\n",
              "    .colab-df-convert:hover {\n",
              "      background-color: #E2EBFA;\n",
              "      box-shadow: 0px 1px 2px rgba(60, 64, 67, 0.3), 0px 1px 3px 1px rgba(60, 64, 67, 0.15);\n",
              "      fill: #174EA6;\n",
              "    }\n",
              "\n",
              "    .colab-df-buttons div {\n",
              "      margin-bottom: 4px;\n",
              "    }\n",
              "\n",
              "    [theme=dark] .colab-df-convert {\n",
              "      background-color: #3B4455;\n",
              "      fill: #D2E3FC;\n",
              "    }\n",
              "\n",
              "    [theme=dark] .colab-df-convert:hover {\n",
              "      background-color: #434B5C;\n",
              "      box-shadow: 0px 1px 3px 1px rgba(0, 0, 0, 0.15);\n",
              "      filter: drop-shadow(0px 1px 2px rgba(0, 0, 0, 0.3));\n",
              "      fill: #FFFFFF;\n",
              "    }\n",
              "  </style>\n",
              "\n",
              "    <script>\n",
              "      const buttonEl =\n",
              "        document.querySelector('#df-df80ce33-1e1b-4b04-955d-18229c8bdc1b button.colab-df-convert');\n",
              "      buttonEl.style.display =\n",
              "        google.colab.kernel.accessAllowed ? 'block' : 'none';\n",
              "\n",
              "      async function convertToInteractive(key) {\n",
              "        const element = document.querySelector('#df-df80ce33-1e1b-4b04-955d-18229c8bdc1b');\n",
              "        const dataTable =\n",
              "          await google.colab.kernel.invokeFunction('convertToInteractive',\n",
              "                                                    [key], {});\n",
              "        if (!dataTable) return;\n",
              "\n",
              "        const docLinkHtml = 'Like what you see? Visit the ' +\n",
              "          '<a target=\"_blank\" href=https://colab.research.google.com/notebooks/data_table.ipynb>data table notebook</a>'\n",
              "          + ' to learn more about interactive tables.';\n",
              "        element.innerHTML = '';\n",
              "        dataTable['output_type'] = 'display_data';\n",
              "        await google.colab.output.renderOutput(dataTable, element);\n",
              "        const docLink = document.createElement('div');\n",
              "        docLink.innerHTML = docLinkHtml;\n",
              "        element.appendChild(docLink);\n",
              "      }\n",
              "    </script>\n",
              "  </div>\n",
              "\n",
              "\n",
              "<div id=\"df-c4baf522-f4cc-4dce-a1f0-53d013099932\">\n",
              "  <button class=\"colab-df-quickchart\" onclick=\"quickchart('df-c4baf522-f4cc-4dce-a1f0-53d013099932')\"\n",
              "            title=\"Suggest charts\"\n",
              "            style=\"display:none;\">\n",
              "\n",
              "<svg xmlns=\"http://www.w3.org/2000/svg\" height=\"24px\"viewBox=\"0 0 24 24\"\n",
              "     width=\"24px\">\n",
              "    <g>\n",
              "        <path d=\"M19 3H5c-1.1 0-2 .9-2 2v14c0 1.1.9 2 2 2h14c1.1 0 2-.9 2-2V5c0-1.1-.9-2-2-2zM9 17H7v-7h2v7zm4 0h-2V7h2v10zm4 0h-2v-4h2v4z\"/>\n",
              "    </g>\n",
              "</svg>\n",
              "  </button>\n",
              "\n",
              "<style>\n",
              "  .colab-df-quickchart {\n",
              "      --bg-color: #E8F0FE;\n",
              "      --fill-color: #1967D2;\n",
              "      --hover-bg-color: #E2EBFA;\n",
              "      --hover-fill-color: #174EA6;\n",
              "      --disabled-fill-color: #AAA;\n",
              "      --disabled-bg-color: #DDD;\n",
              "  }\n",
              "\n",
              "  [theme=dark] .colab-df-quickchart {\n",
              "      --bg-color: #3B4455;\n",
              "      --fill-color: #D2E3FC;\n",
              "      --hover-bg-color: #434B5C;\n",
              "      --hover-fill-color: #FFFFFF;\n",
              "      --disabled-bg-color: #3B4455;\n",
              "      --disabled-fill-color: #666;\n",
              "  }\n",
              "\n",
              "  .colab-df-quickchart {\n",
              "    background-color: var(--bg-color);\n",
              "    border: none;\n",
              "    border-radius: 50%;\n",
              "    cursor: pointer;\n",
              "    display: none;\n",
              "    fill: var(--fill-color);\n",
              "    height: 32px;\n",
              "    padding: 0;\n",
              "    width: 32px;\n",
              "  }\n",
              "\n",
              "  .colab-df-quickchart:hover {\n",
              "    background-color: var(--hover-bg-color);\n",
              "    box-shadow: 0 1px 2px rgba(60, 64, 67, 0.3), 0 1px 3px 1px rgba(60, 64, 67, 0.15);\n",
              "    fill: var(--button-hover-fill-color);\n",
              "  }\n",
              "\n",
              "  .colab-df-quickchart-complete:disabled,\n",
              "  .colab-df-quickchart-complete:disabled:hover {\n",
              "    background-color: var(--disabled-bg-color);\n",
              "    fill: var(--disabled-fill-color);\n",
              "    box-shadow: none;\n",
              "  }\n",
              "\n",
              "  .colab-df-spinner {\n",
              "    border: 2px solid var(--fill-color);\n",
              "    border-color: transparent;\n",
              "    border-bottom-color: var(--fill-color);\n",
              "    animation:\n",
              "      spin 1s steps(1) infinite;\n",
              "  }\n",
              "\n",
              "  @keyframes spin {\n",
              "    0% {\n",
              "      border-color: transparent;\n",
              "      border-bottom-color: var(--fill-color);\n",
              "      border-left-color: var(--fill-color);\n",
              "    }\n",
              "    20% {\n",
              "      border-color: transparent;\n",
              "      border-left-color: var(--fill-color);\n",
              "      border-top-color: var(--fill-color);\n",
              "    }\n",
              "    30% {\n",
              "      border-color: transparent;\n",
              "      border-left-color: var(--fill-color);\n",
              "      border-top-color: var(--fill-color);\n",
              "      border-right-color: var(--fill-color);\n",
              "    }\n",
              "    40% {\n",
              "      border-color: transparent;\n",
              "      border-right-color: var(--fill-color);\n",
              "      border-top-color: var(--fill-color);\n",
              "    }\n",
              "    60% {\n",
              "      border-color: transparent;\n",
              "      border-right-color: var(--fill-color);\n",
              "    }\n",
              "    80% {\n",
              "      border-color: transparent;\n",
              "      border-right-color: var(--fill-color);\n",
              "      border-bottom-color: var(--fill-color);\n",
              "    }\n",
              "    90% {\n",
              "      border-color: transparent;\n",
              "      border-bottom-color: var(--fill-color);\n",
              "    }\n",
              "  }\n",
              "</style>\n",
              "\n",
              "  <script>\n",
              "    async function quickchart(key) {\n",
              "      const quickchartButtonEl =\n",
              "        document.querySelector('#' + key + ' button');\n",
              "      quickchartButtonEl.disabled = true;  // To prevent multiple clicks.\n",
              "      quickchartButtonEl.classList.add('colab-df-spinner');\n",
              "      try {\n",
              "        const charts = await google.colab.kernel.invokeFunction(\n",
              "            'suggestCharts', [key], {});\n",
              "      } catch (error) {\n",
              "        console.error('Error during call to suggestCharts:', error);\n",
              "      }\n",
              "      quickchartButtonEl.classList.remove('colab-df-spinner');\n",
              "      quickchartButtonEl.classList.add('colab-df-quickchart-complete');\n",
              "    }\n",
              "    (() => {\n",
              "      let quickchartButtonEl =\n",
              "        document.querySelector('#df-c4baf522-f4cc-4dce-a1f0-53d013099932 button');\n",
              "      quickchartButtonEl.style.display =\n",
              "        google.colab.kernel.accessAllowed ? 'block' : 'none';\n",
              "    })();\n",
              "  </script>\n",
              "</div>\n",
              "\n",
              "    </div>\n",
              "  </div>\n"
            ],
            "application/vnd.google.colaboratory.intrinsic+json": {
              "type": "dataframe",
              "summary": "{\n  \"name\": \"car_data[['Fuel_Type']]\",\n  \"rows\": 5,\n  \"fields\": [\n    {\n      \"column\": \"Fuel_Type\",\n      \"properties\": {\n        \"dtype\": \"category\",\n        \"num_unique_values\": 2,\n        \"samples\": [\n          \"Diesel\",\n          \"Petrol\"\n        ],\n        \"semantic_type\": \"\",\n        \"description\": \"\"\n      }\n    }\n  ]\n}"
            }
          },
          "metadata": {},
          "execution_count": 5
        }
      ]
    },
    {
      "cell_type": "markdown",
      "metadata": {
        "id": "NIjV-9YaRXMw"
      },
      "source": [
        "### ✍ Exercise️\n",
        "\n",
        "In the cell below, select the `Car_Name` column from our `car_data` dataframe and then output the first five rows.\n"
      ]
    },
    {
      "cell_type": "code",
      "metadata": {
        "id": "YBMt7iBLRymj",
        "colab": {
          "base_uri": "https://localhost:8080/",
          "height": 204
        },
        "outputId": "39f5d6b9-47e8-4c6e-b485-4d26ac15a5cd"
      },
      "source": [
        "### YOUR CODE HERE\n",
        "car_data[['Car_Name']].head()\n",
        "### END CODE"
      ],
      "execution_count": 6,
      "outputs": [
        {
          "output_type": "execute_result",
          "data": {
            "text/plain": [
              "  Car_Name\n",
              "0     ritz\n",
              "1      sx4\n",
              "2     ciaz\n",
              "3  wagon r\n",
              "4    swift"
            ],
            "text/html": [
              "\n",
              "  <div id=\"df-774dfa4b-88bd-4502-a393-e64471cca4d2\" class=\"colab-df-container\">\n",
              "    <div>\n",
              "<style scoped>\n",
              "    .dataframe tbody tr th:only-of-type {\n",
              "        vertical-align: middle;\n",
              "    }\n",
              "\n",
              "    .dataframe tbody tr th {\n",
              "        vertical-align: top;\n",
              "    }\n",
              "\n",
              "    .dataframe thead th {\n",
              "        text-align: right;\n",
              "    }\n",
              "</style>\n",
              "<table border=\"1\" class=\"dataframe\">\n",
              "  <thead>\n",
              "    <tr style=\"text-align: right;\">\n",
              "      <th></th>\n",
              "      <th>Car_Name</th>\n",
              "    </tr>\n",
              "  </thead>\n",
              "  <tbody>\n",
              "    <tr>\n",
              "      <th>0</th>\n",
              "      <td>ritz</td>\n",
              "    </tr>\n",
              "    <tr>\n",
              "      <th>1</th>\n",
              "      <td>sx4</td>\n",
              "    </tr>\n",
              "    <tr>\n",
              "      <th>2</th>\n",
              "      <td>ciaz</td>\n",
              "    </tr>\n",
              "    <tr>\n",
              "      <th>3</th>\n",
              "      <td>wagon r</td>\n",
              "    </tr>\n",
              "    <tr>\n",
              "      <th>4</th>\n",
              "      <td>swift</td>\n",
              "    </tr>\n",
              "  </tbody>\n",
              "</table>\n",
              "</div>\n",
              "    <div class=\"colab-df-buttons\">\n",
              "\n",
              "  <div class=\"colab-df-container\">\n",
              "    <button class=\"colab-df-convert\" onclick=\"convertToInteractive('df-774dfa4b-88bd-4502-a393-e64471cca4d2')\"\n",
              "            title=\"Convert this dataframe to an interactive table.\"\n",
              "            style=\"display:none;\">\n",
              "\n",
              "  <svg xmlns=\"http://www.w3.org/2000/svg\" height=\"24px\" viewBox=\"0 -960 960 960\">\n",
              "    <path d=\"M120-120v-720h720v720H120Zm60-500h600v-160H180v160Zm220 220h160v-160H400v160Zm0 220h160v-160H400v160ZM180-400h160v-160H180v160Zm440 0h160v-160H620v160ZM180-180h160v-160H180v160Zm440 0h160v-160H620v160Z\"/>\n",
              "  </svg>\n",
              "    </button>\n",
              "\n",
              "  <style>\n",
              "    .colab-df-container {\n",
              "      display:flex;\n",
              "      gap: 12px;\n",
              "    }\n",
              "\n",
              "    .colab-df-convert {\n",
              "      background-color: #E8F0FE;\n",
              "      border: none;\n",
              "      border-radius: 50%;\n",
              "      cursor: pointer;\n",
              "      display: none;\n",
              "      fill: #1967D2;\n",
              "      height: 32px;\n",
              "      padding: 0 0 0 0;\n",
              "      width: 32px;\n",
              "    }\n",
              "\n",
              "    .colab-df-convert:hover {\n",
              "      background-color: #E2EBFA;\n",
              "      box-shadow: 0px 1px 2px rgba(60, 64, 67, 0.3), 0px 1px 3px 1px rgba(60, 64, 67, 0.15);\n",
              "      fill: #174EA6;\n",
              "    }\n",
              "\n",
              "    .colab-df-buttons div {\n",
              "      margin-bottom: 4px;\n",
              "    }\n",
              "\n",
              "    [theme=dark] .colab-df-convert {\n",
              "      background-color: #3B4455;\n",
              "      fill: #D2E3FC;\n",
              "    }\n",
              "\n",
              "    [theme=dark] .colab-df-convert:hover {\n",
              "      background-color: #434B5C;\n",
              "      box-shadow: 0px 1px 3px 1px rgba(0, 0, 0, 0.15);\n",
              "      filter: drop-shadow(0px 1px 2px rgba(0, 0, 0, 0.3));\n",
              "      fill: #FFFFFF;\n",
              "    }\n",
              "  </style>\n",
              "\n",
              "    <script>\n",
              "      const buttonEl =\n",
              "        document.querySelector('#df-774dfa4b-88bd-4502-a393-e64471cca4d2 button.colab-df-convert');\n",
              "      buttonEl.style.display =\n",
              "        google.colab.kernel.accessAllowed ? 'block' : 'none';\n",
              "\n",
              "      async function convertToInteractive(key) {\n",
              "        const element = document.querySelector('#df-774dfa4b-88bd-4502-a393-e64471cca4d2');\n",
              "        const dataTable =\n",
              "          await google.colab.kernel.invokeFunction('convertToInteractive',\n",
              "                                                    [key], {});\n",
              "        if (!dataTable) return;\n",
              "\n",
              "        const docLinkHtml = 'Like what you see? Visit the ' +\n",
              "          '<a target=\"_blank\" href=https://colab.research.google.com/notebooks/data_table.ipynb>data table notebook</a>'\n",
              "          + ' to learn more about interactive tables.';\n",
              "        element.innerHTML = '';\n",
              "        dataTable['output_type'] = 'display_data';\n",
              "        await google.colab.output.renderOutput(dataTable, element);\n",
              "        const docLink = document.createElement('div');\n",
              "        docLink.innerHTML = docLinkHtml;\n",
              "        element.appendChild(docLink);\n",
              "      }\n",
              "    </script>\n",
              "  </div>\n",
              "\n",
              "\n",
              "<div id=\"df-5f3c6f9b-34e6-467a-bab6-1b3a566234d2\">\n",
              "  <button class=\"colab-df-quickchart\" onclick=\"quickchart('df-5f3c6f9b-34e6-467a-bab6-1b3a566234d2')\"\n",
              "            title=\"Suggest charts\"\n",
              "            style=\"display:none;\">\n",
              "\n",
              "<svg xmlns=\"http://www.w3.org/2000/svg\" height=\"24px\"viewBox=\"0 0 24 24\"\n",
              "     width=\"24px\">\n",
              "    <g>\n",
              "        <path d=\"M19 3H5c-1.1 0-2 .9-2 2v14c0 1.1.9 2 2 2h14c1.1 0 2-.9 2-2V5c0-1.1-.9-2-2-2zM9 17H7v-7h2v7zm4 0h-2V7h2v10zm4 0h-2v-4h2v4z\"/>\n",
              "    </g>\n",
              "</svg>\n",
              "  </button>\n",
              "\n",
              "<style>\n",
              "  .colab-df-quickchart {\n",
              "      --bg-color: #E8F0FE;\n",
              "      --fill-color: #1967D2;\n",
              "      --hover-bg-color: #E2EBFA;\n",
              "      --hover-fill-color: #174EA6;\n",
              "      --disabled-fill-color: #AAA;\n",
              "      --disabled-bg-color: #DDD;\n",
              "  }\n",
              "\n",
              "  [theme=dark] .colab-df-quickchart {\n",
              "      --bg-color: #3B4455;\n",
              "      --fill-color: #D2E3FC;\n",
              "      --hover-bg-color: #434B5C;\n",
              "      --hover-fill-color: #FFFFFF;\n",
              "      --disabled-bg-color: #3B4455;\n",
              "      --disabled-fill-color: #666;\n",
              "  }\n",
              "\n",
              "  .colab-df-quickchart {\n",
              "    background-color: var(--bg-color);\n",
              "    border: none;\n",
              "    border-radius: 50%;\n",
              "    cursor: pointer;\n",
              "    display: none;\n",
              "    fill: var(--fill-color);\n",
              "    height: 32px;\n",
              "    padding: 0;\n",
              "    width: 32px;\n",
              "  }\n",
              "\n",
              "  .colab-df-quickchart:hover {\n",
              "    background-color: var(--hover-bg-color);\n",
              "    box-shadow: 0 1px 2px rgba(60, 64, 67, 0.3), 0 1px 3px 1px rgba(60, 64, 67, 0.15);\n",
              "    fill: var(--button-hover-fill-color);\n",
              "  }\n",
              "\n",
              "  .colab-df-quickchart-complete:disabled,\n",
              "  .colab-df-quickchart-complete:disabled:hover {\n",
              "    background-color: var(--disabled-bg-color);\n",
              "    fill: var(--disabled-fill-color);\n",
              "    box-shadow: none;\n",
              "  }\n",
              "\n",
              "  .colab-df-spinner {\n",
              "    border: 2px solid var(--fill-color);\n",
              "    border-color: transparent;\n",
              "    border-bottom-color: var(--fill-color);\n",
              "    animation:\n",
              "      spin 1s steps(1) infinite;\n",
              "  }\n",
              "\n",
              "  @keyframes spin {\n",
              "    0% {\n",
              "      border-color: transparent;\n",
              "      border-bottom-color: var(--fill-color);\n",
              "      border-left-color: var(--fill-color);\n",
              "    }\n",
              "    20% {\n",
              "      border-color: transparent;\n",
              "      border-left-color: var(--fill-color);\n",
              "      border-top-color: var(--fill-color);\n",
              "    }\n",
              "    30% {\n",
              "      border-color: transparent;\n",
              "      border-left-color: var(--fill-color);\n",
              "      border-top-color: var(--fill-color);\n",
              "      border-right-color: var(--fill-color);\n",
              "    }\n",
              "    40% {\n",
              "      border-color: transparent;\n",
              "      border-right-color: var(--fill-color);\n",
              "      border-top-color: var(--fill-color);\n",
              "    }\n",
              "    60% {\n",
              "      border-color: transparent;\n",
              "      border-right-color: var(--fill-color);\n",
              "    }\n",
              "    80% {\n",
              "      border-color: transparent;\n",
              "      border-right-color: var(--fill-color);\n",
              "      border-bottom-color: var(--fill-color);\n",
              "    }\n",
              "    90% {\n",
              "      border-color: transparent;\n",
              "      border-bottom-color: var(--fill-color);\n",
              "    }\n",
              "  }\n",
              "</style>\n",
              "\n",
              "  <script>\n",
              "    async function quickchart(key) {\n",
              "      const quickchartButtonEl =\n",
              "        document.querySelector('#' + key + ' button');\n",
              "      quickchartButtonEl.disabled = true;  // To prevent multiple clicks.\n",
              "      quickchartButtonEl.classList.add('colab-df-spinner');\n",
              "      try {\n",
              "        const charts = await google.colab.kernel.invokeFunction(\n",
              "            'suggestCharts', [key], {});\n",
              "      } catch (error) {\n",
              "        console.error('Error during call to suggestCharts:', error);\n",
              "      }\n",
              "      quickchartButtonEl.classList.remove('colab-df-spinner');\n",
              "      quickchartButtonEl.classList.add('colab-df-quickchart-complete');\n",
              "    }\n",
              "    (() => {\n",
              "      let quickchartButtonEl =\n",
              "        document.querySelector('#df-5f3c6f9b-34e6-467a-bab6-1b3a566234d2 button');\n",
              "      quickchartButtonEl.style.display =\n",
              "        google.colab.kernel.accessAllowed ? 'block' : 'none';\n",
              "    })();\n",
              "  </script>\n",
              "</div>\n",
              "\n",
              "    </div>\n",
              "  </div>\n"
            ],
            "application/vnd.google.colaboratory.intrinsic+json": {
              "type": "dataframe",
              "summary": "{\n  \"name\": \"### END CODE\",\n  \"rows\": 5,\n  \"fields\": [\n    {\n      \"column\": \"Car_Name\",\n      \"properties\": {\n        \"dtype\": \"string\",\n        \"num_unique_values\": 5,\n        \"samples\": [\n          \"sx4\",\n          \"swift\",\n          \"ciaz\"\n        ],\n        \"semantic_type\": \"\",\n        \"description\": \"\"\n      }\n    }\n  ]\n}"
            }
          },
          "metadata": {},
          "execution_count": 6
        }
      ]
    },
    {
      "cell_type": "code",
      "source": [],
      "metadata": {
        "id": "CqcxSfAswMHY"
      },
      "execution_count": null,
      "outputs": []
    },
    {
      "cell_type": "markdown",
      "metadata": {
        "id": "o0baPZC2yH4U"
      },
      "source": [
        "##  How big is our data set?\n"
      ]
    },
    {
      "cell_type": "markdown",
      "metadata": {
        "id": "sevCjN4NQOU1"
      },
      "source": [
        "Each row in the datatable represents a unique car. Using the information in the columns of the datatable you can select the car that best suits your taste.\n",
        "\n",
        "If we only had a few cars to choose from this would be an easy task. But let's see how many rows we have in our datatable. Run the cell below to get the count of rows.\n"
      ]
    },
    {
      "cell_type": "code",
      "metadata": {
        "id": "I6ZmiHEQ08Pw",
        "colab": {
          "base_uri": "https://localhost:8080/"
        },
        "outputId": "fa5f92d1-6cdc-4e80-f529-cacc57af5e63"
      },
      "source": [
        "# use the 'len' method to see how many rows are in our dataframe\n",
        "print(len(car_data))"
      ],
      "execution_count": 7,
      "outputs": [
        {
          "output_type": "stream",
          "name": "stdout",
          "text": [
            "301\n"
          ]
        }
      ]
    },
    {
      "cell_type": "markdown",
      "metadata": {
        "id": "soQJOp5w1iVL"
      },
      "source": [
        "That's a lot of cars to look at one by one!\n",
        "\n",
        "Imagine that you are staring at a garage full of cars not knowing which one to choose. That is exactly where we are right now.\n",
        "\n",
        "[![ryan-searle-377260-unsplash.jpg](https://i.postimg.cc/15xbXsCp/ryan-searle-377260-unsplash.jpg)](https://postimg.cc/kDcTh3d4)\n",
        "\n",
        "\n",
        "\n",
        "How can you make your task easier? Luckily as a data expert you can use visualization to organize the cars by the most important variables.\n",
        "\n"
      ]
    },
    {
      "cell_type": "markdown",
      "metadata": {
        "id": "2Fe2IlJU9P78"
      },
      "source": [
        "# **Visualizing the Data**\n"
      ]
    },
    {
      "cell_type": "markdown",
      "metadata": {
        "id": "hMhUPl1RGwMr"
      },
      "source": [
        "One way to look at the data is to use a scatter plot. A scatter plot is a two-dimensional data visualization that uses a dot for each data point to represent the values obtained for two different variables - one plotted along the x-axis and the other plotted along the y-axis.\n",
        "\n",
        "A scatter plot is used to understand the relationship between **two continuous variables.**\n",
        "\n",
        "Below, we'll use the `scatterplot` function from the `seaborn` library:\n",
        "\n",
        ">`sns.scatterplot(x = 'feature_column', y = 'target_column', data = source_data_frame)`\n",
        "\n",
        "Run the cell below to plot `selling price` vs. `age`!"
      ]
    },
    {
      "cell_type": "code",
      "metadata": {
        "id": "fgIcWjsA71bH",
        "colab": {
          "base_uri": "https://localhost:8080/",
          "height": 466
        },
        "outputId": "e4735ece-21ec-4a32-d640-6685df723fb6"
      },
      "source": [
        "# first we'll grab our handy visualization tools\n",
        "import seaborn as sns\n",
        "import matplotlib.pyplot as plt\n",
        "\n",
        "# Each dot is a single example (row) from the dataframe, with its\n",
        "# x-value as `Age` and its y-value as `Selling_Price`\n",
        "sns.scatterplot(x = 'Age', y = 'Selling_Price', data = car_data)"
      ],
      "execution_count": 8,
      "outputs": [
        {
          "output_type": "execute_result",
          "data": {
            "text/plain": [
              "<Axes: xlabel='Age', ylabel='Selling_Price'>"
            ]
          },
          "metadata": {},
          "execution_count": 8
        },
        {
          "output_type": "display_data",
          "data": {
            "text/plain": [
              "<Figure size 640x480 with 1 Axes>"
            ],
            "image/png": "[encoded data removed]"
          },
          "metadata": {}
        }
      ]
    },
    {
      "cell_type": "markdown",
      "metadata": {
        "id": "w5u2JrP_KXtm"
      },
      "source": [
        "### 💡 Discussion Question\n",
        "\n",
        "Data science is about understanding stories by looking at data visualizations. What do you hypothesize is going on in the scatter plot above?\n",
        "\n",
        "\n"
      ]
    },
    {
      "cell_type": "markdown",
      "metadata": {
        "id": "dHgYmiyE69aG"
      },
      "source": [
        "## Visualizing Categorical Data"
      ]
    },
    {
      "cell_type": "markdown",
      "metadata": {
        "id": "ynzdYvdJ6p3e"
      },
      "source": [
        "`Transmission` is another one of our variables. It can either be `Manual`or `Automatic`.  This is different than what we saw with `Selling_Price` in that `Transmission` is NOT a number.\n",
        "\n",
        "We call variables like `Transmission` categorical variables.\n",
        "\n"
      ]
    },
    {
      "cell_type": "markdown",
      "metadata": {
        "id": "OVPH1dlIcy4Q"
      },
      "source": [
        "### 💡 Discussion Question\n",
        "Which of the other variables from our data table are categorical?"
      ]
    },
    {
      "cell_type": "markdown",
      "metadata": {
        "id": "v-Hais-UeP4W"
      },
      "source": [
        "There's a specific type of plot for visualizing categorical variables. This is `catplot`. Let's try it out!"
      ]
    },
    {
      "cell_type": "code",
      "metadata": {
        "id": "rsl6jADc7FrR",
        "colab": {
          "base_uri": "https://localhost:8080/",
          "height": 523
        },
        "outputId": "f997ebe8-45ed-4acc-cfcf-93029bc99255"
      },
      "source": [
        "# you can do the same thing with categorical variables!! but you will use catplot instead\n",
        "sns.catplot(x = 'Fuel_Type', y = 'Selling_Price', data = car_data, kind = 'swarm', s = 2)"
      ],
      "execution_count": 9,
      "outputs": [
        {
          "output_type": "execute_result",
          "data": {
            "text/plain": [
              "<seaborn.axisgrid.FacetGrid at 0x7ef80756b940>"
            ]
          },
          "metadata": {},
          "execution_count": 9
        },
        {
          "output_type": "display_data",
          "data": {
            "text/plain": [
              "<Figure size 511.111x500 with 1 Axes>"
            ],
            "image/png": "[encoded data removed]"
          },
          "metadata": {}
        }
      ]
    },
    {
      "cell_type": "markdown",
      "metadata": {
        "id": "rK32UcSrelwg"
      },
      "source": [
        "### 💡 Discussion Question\n",
        "What do you take away from the plot above?\n",
        "\n"
      ]
    },
    {
      "cell_type": "markdown",
      "metadata": {
        "id": "LwSjJSDTdR6w"
      },
      "source": [
        "### ✍️ Optional Exercise: Groupby\n",
        "\n",
        "Using the `groupby` function in `pandas`, count the number of `Petrol` vs. `Diesel` vs. `CNG` cars in your dataset. (Hint: the `.size()` function will come in handy!)"
      ]
    },
    {
      "cell_type": "code",
      "metadata": {
        "id": "-Tm5tR_idbB5"
      },
      "source": [
        "### YOUR CODE HERE ###"
      ],
      "execution_count": 10,
      "outputs": []
    },
    {
      "cell_type": "markdown",
      "metadata": {
        "id": "4TNDDSFwMtFb"
      },
      "source": [
        "###  ✍ Exercise️\n",
        "\n",
        "\n"
      ]
    },
    {
      "cell_type": "markdown",
      "metadata": {
        "id": "OLBkz9DEe0Ru"
      },
      "source": [
        "How do you think price will vary with `Kms_Driven`?\n",
        "\n",
        "Check your hypothesis against a plot!\n"
      ]
    },
    {
      "cell_type": "code",
      "metadata": {
        "id": "ziyiqsFze7L-"
      },
      "source": [
        "### YOUR CODE HERE\n",
        "\n",
        "### END CODE"
      ],
      "execution_count": null,
      "outputs": []
    },
    {
      "cell_type": "markdown",
      "metadata": {
        "id": "JjWE3B5LfZkY"
      },
      "source": [
        "### 💡 Discussion Question\n",
        "Now that we've looked at our data for a few variables, let's take a step back, and ask:\n",
        "\n",
        "For each variable, do we expect a car to be more or less expensive?"
      ]
    },
    {
      "cell_type": "markdown",
      "metadata": {
        "id": "SSYYamfgfW1g"
      },
      "source": [
        "Try a couple:\n",
        "\n",
        "* `Seller_Type`\n",
        "* `Transmission`\n",
        "\n",
        "Investigate these with seaborn!\n",
        "\n",
        "Can you figure out what plotting function we should use here? Think about what type of data we are plotting.\n"
      ]
    },
    {
      "cell_type": "code",
      "metadata": {
        "id": "2mFufuJ8fr6j"
      },
      "source": [
        "### YOUR CODE HERE\n",
        "\n",
        "### END CODE"
      ],
      "execution_count": null,
      "outputs": []
    },
    {
      "cell_type": "markdown",
      "metadata": {
        "id": "GY_5ltQS4s3C"
      },
      "source": [
        "# **Linear Regression**\n"
      ]
    },
    {
      "cell_type": "markdown",
      "metadata": {
        "id": "yILvpzZOgHVW"
      },
      "source": [
        "### 💡 Discussion Question\n",
        "\n",
        "How would you *quantify* the relationship between age and selling price?\n",
        "\n"
      ]
    },
    {
      "cell_type": "markdown",
      "metadata": {
        "id": "l0CXOWJs7L29"
      },
      "source": [
        "## Linear Regression Review"
      ]
    },
    {
      "cell_type": "markdown",
      "metadata": {
        "id": "fABVpt6Y0qqY"
      },
      "source": [
        "Linear regression is a statistical approach to find and determine a relationship among an independent variable `x` and a dependent variable `y`. For us, our `x` is `Age` while our `y` is `Selling_Price`. In the below equation, linear regression helps us find the `m` and `b` that best relates our variables. In other words, we are trying to find a \"line of best fit\" for our variables `x` and `y`.\n",
        "\n",
        "$y= mx + b$\n",
        "\n",
        "[![Line of Best Fit](https://upload.wikimedia.org/wikipedia/commons/thumb/3/3a/Linear_regression.svg/400px-Linear_regression.svg.png)](https://upload.wikimedia.org/wikipedia/commons/thumb/3/3a/Linear_regression.svg/400px-Linear_regression.svg.png)\n",
        "\n",
        "Another way to say this is: we create a line that 'summarizes' the story that the data tells us."
      ]
    },
    {
      "cell_type": "markdown",
      "metadata": {
        "id": "X9UiW3wdiuuA"
      },
      "source": [
        "**Let's explore linear regression through a demo!**\n",
        "\n",
        "[Playground!](http://setosa.io/ev/ordinary-least-squares-regression/)\n",
        "\n",
        "You might have spent some time on this site during lecture, but we ***highly recommend*** you take some time to play around with this on your own."
      ]
    },
    {
      "cell_type": "markdown",
      "metadata": {
        "id": "Ee5Y4woxjNvi"
      },
      "source": [
        "## Linear Regression in Python"
      ]
    },
    {
      "cell_type": "markdown",
      "metadata": {
        "id": "7-zKe6JKjhEz"
      },
      "source": [
        "We'll use `sklearn` to run our linear regression below"
      ]
    },
    {
      "cell_type": "code",
      "metadata": {
        "id": "AyUa0zil_Asb"
      },
      "source": [
        "import sklearn\n",
        "# let's pull our handy linear fitter from our 'prediction' toolbox: sklearn!\n",
        "from sklearn.linear_model import LinearRegression\n",
        "import numpy as np    # Great for lists (arrays) of numbers\n",
        "\n",
        "# Initializing our X and y variables.\n",
        "X = car_data[['Age']]\n",
        "y = car_data[['Selling_Price']]"
      ],
      "execution_count": null,
      "outputs": []
    },
    {
      "cell_type": "markdown",
      "metadata": {
        "id": "87t6fsAi56mZ"
      },
      "source": [
        "Let's take a look and see what `X` and `y` look like!"
      ]
    },
    {
      "cell_type": "code",
      "metadata": {
        "id": "JZX_6FZx6Ayu"
      },
      "source": [
        "print(X)"
      ],
      "execution_count": null,
      "outputs": []
    },
    {
      "cell_type": "code",
      "metadata": {
        "id": "jL5y_eUE6CSM"
      },
      "source": [
        "print(y)"
      ],
      "execution_count": null,
      "outputs": []
    },
    {
      "cell_type": "markdown",
      "metadata": {
        "id": "Q4-ie82v-PPE"
      },
      "source": [
        "Next, let's set up our model variable and train the model."
      ]
    },
    {
      "cell_type": "code",
      "metadata": {
        "id": "fAfxYqFB3LlE"
      },
      "source": [
        "# set up our model\n",
        "linear = LinearRegression()\n",
        "\n",
        "# train the model\n",
        "linear.fit(X, y)"
      ],
      "execution_count": null,
      "outputs": []
    },
    {
      "cell_type": "code",
      "metadata": {
        "id": "RReOkaEFpvjl",
        "cellView": "form"
      },
      "source": [
        "#@title Visualize the fit with this cell!\n",
        "import matplotlib.pyplot as plt\n",
        "\n",
        "y_pred = linear.predict(X)\n",
        "plt.plot(X, y_pred, color='red')\n",
        "\n",
        "plt.scatter(X, y)\n",
        "plt.xlabel('Age') # set the labels of the x and y axes\n",
        "plt.ylabel('Selling_Price (lakhs)')\n",
        "plt.show()"
      ],
      "execution_count": null,
      "outputs": []
    },
    {
      "cell_type": "markdown",
      "metadata": {
        "id": "ouYw5bRKm0I2"
      },
      "source": [
        "# **Optional: Interpreting our Model**\n",
        "Remember! We were trying to find the best `b` and `m` to capture our data's story. We can grab this from the trained model."
      ]
    },
    {
      "cell_type": "code",
      "metadata": {
        "id": "eb33Iylem6cv"
      },
      "source": [
        "print('Our m in lakhs/year: ', linear.coef_)"
      ],
      "execution_count": null,
      "outputs": []
    },
    {
      "cell_type": "markdown",
      "metadata": {
        "id": "hoVTkaNMuxM4"
      },
      "source": [
        "`m` says: The more recent a car is by one year, the selling price is `m` lakhs higher."
      ]
    },
    {
      "cell_type": "markdown",
      "metadata": {
        "id": "eBBAeXP0pJ0h"
      },
      "source": [
        "### 💡 Discussion Question\n",
        "\n",
        "Let's say you were deciding between a brand new car and the same model that was 3 years older. How much cheaper should the older car be according to our model?\n",
        "\n"
      ]
    },
    {
      "cell_type": "markdown",
      "metadata": {
        "id": "oufwn6jRzicM"
      },
      "source": [
        "To complete the equation, we still need our intercept `b`"
      ]
    },
    {
      "cell_type": "code",
      "metadata": {
        "id": "VSZ7OYSeyQKB"
      },
      "source": [
        "print('Our intercept b: ', linear.intercept_)"
      ],
      "execution_count": null,
      "outputs": []
    },
    {
      "cell_type": "markdown",
      "metadata": {
        "id": "mm7aNp8cbqHF"
      },
      "source": [
        "How should we interpret it? Using our $m$ and $b$ values, how do we find the price of the cars?\n"
      ]
    },
    {
      "cell_type": "markdown",
      "metadata": {
        "id": "AhWhJAsaug89"
      },
      "source": [
        "### ✍ Exercise️\n",
        "\n",
        "You go to a car salesperson to buy a nice used car. The car you want is a 2017 model and he offers to sell it for 7 lakh. Would you take it? If not, how much would you take it for?\n",
        "\n"
      ]
    },
    {
      "cell_type": "markdown",
      "metadata": {
        "id": "THk4wpo_3gT1"
      },
      "source": [
        "# **(Optional) Single Linear Regression: Trying Different Inputs**\n",
        "\n",
        "\n",
        "\n",
        "\n"
      ]
    },
    {
      "cell_type": "markdown",
      "metadata": {
        "id": "NWtHXBE74fIV"
      },
      "source": [
        "In order to try different inputs in linear regression, we will first need to learn how to convert categorical data into numerical data. Let's first learn how to do that with the `Transmission` variable. We can easily transform `Transmission` to a numeric variable by replacing `Manual` with `1` and `Automatic` with `0`."
      ]
    },
    {
      "cell_type": "code",
      "metadata": {
        "id": "vukhDq7PsV8X"
      },
      "source": [
        "car_data['TransmissionNumber'] = car_data['Transmission'].replace({'Manual':1, 'Automatic':0})"
      ],
      "execution_count": null,
      "outputs": []
    },
    {
      "cell_type": "markdown",
      "metadata": {
        "id": "FCiz4-xV5GOR"
      },
      "source": [
        "Now that we have `Transmission` converted, we can now check what our dataset looks like!"
      ]
    },
    {
      "cell_type": "code",
      "metadata": {
        "id": "yS0heQCjrDdJ"
      },
      "source": [
        "car_data.head(20)"
      ],
      "execution_count": null,
      "outputs": []
    },
    {
      "cell_type": "markdown",
      "metadata": {
        "id": "WAycD-GN4YxX"
      },
      "source": [
        "Now we're ready to try different values for `X` instead of just the `'Age'` column! If we want to try a categorical variable like `Transmission`, remember to convert it to numerical!"
      ]
    },
    {
      "cell_type": "code",
      "metadata": {
        "id": "mvg2nPoU4Zak"
      },
      "source": [
        "#Initializing our X, y variables\n",
        "\n",
        "X_column = 'Age' # Feel free to try different inputs!\n",
        "X = car_data[[X_column]]\n",
        "y = car_data[['Selling_Price']]\n",
        "\n",
        "#Setting up model\n",
        "linear = LinearRegression()\n",
        "\n",
        "#Training\n",
        "linear.fit(X,y)"
      ],
      "execution_count": null,
      "outputs": []
    },
    {
      "cell_type": "code",
      "metadata": {
        "cellView": "form",
        "id": "3SzJ11LM5WlX"
      },
      "source": [
        "#@title Visualize the fit with this cell!\n",
        "import matplotlib.pyplot as plt\n",
        "\n",
        "y_pred = linear.predict(X)\n",
        "plt.plot(X, y_pred, color='red')\n",
        "\n",
        "plt.scatter(X, y)\n",
        "plt.xlabel(X_column) # Automated setup of axis labels\n",
        "plt.ylabel('Selling_Price (lakhs)')\n",
        "plt.show()"
      ],
      "execution_count": null,
      "outputs": []
    },
    {
      "cell_type": "markdown",
      "metadata": {
        "id": "24QbsTU_sTF3"
      },
      "source": [
        "# **(Optional) Multiple Linear Regression: Using multiple inputs**"
      ]
    },
    {
      "cell_type": "markdown",
      "metadata": {
        "id": "vYt0sZGgs6WP"
      },
      "source": [
        "Now that we've tried single linear regression with different inputs, we'll now try to make our model better by using multiple input variables, like `Kms_Driven` and `Transmission`.\n"
      ]
    },
    {
      "cell_type": "code",
      "metadata": {
        "id": "Vv1sW8Cc1Ykc"
      },
      "source": [
        "X = car_data[['Age', 'TransmissionNumber', 'Kms_Driven']]\n",
        "\n",
        "# set up our model\n",
        "multiple = LinearRegression(fit_intercept = True)\n",
        "\n",
        "# train the model\n",
        "multiple.fit(X, y)"
      ],
      "execution_count": null,
      "outputs": []
    },
    {
      "cell_type": "markdown",
      "metadata": {
        "id": "Wc7akf7Y18Tb"
      },
      "source": [
        "How well did it do compared to our simple linear regression from before? We can actually compare the two with their 'scores'! The score is known as r-squared ($R^2$)."
      ]
    },
    {
      "cell_type": "code",
      "metadata": {
        "id": "VeC3cB2V2C-1"
      },
      "source": [
        "print('Our single linear model had an R^2 of: %0.3f'%linear.score(car_data[[X_column]], y))"
      ],
      "execution_count": null,
      "outputs": []
    },
    {
      "cell_type": "code",
      "metadata": {
        "id": "aWo3ld7S1m7i"
      },
      "source": [
        "print('Our multiple linear model had an R^2 of: %0.3f'%multiple.score(X, y))"
      ],
      "execution_count": null,
      "outputs": []
    },
    {
      "cell_type": "markdown",
      "metadata": {
        "id": "JyWIZkKy2wgh"
      },
      "source": [
        "In real life, you wouldn't buy a car based on a single variable like `Age`. You would take into account a lot of different variables like our multiple linear model did!"
      ]
    },
    {
      "cell_type": "markdown",
      "metadata": {
        "id": "ATTq0EpXCrCH"
      },
      "source": [
        "### ✍ Exercise️"
      ]
    },
    {
      "cell_type": "markdown",
      "metadata": {
        "id": "spVtP6qzCtao"
      },
      "source": [
        "You noticed that we did not include `Seller_Type` as one of the variables in our multiple linear regression. Figure out what steps you need to take to build a model with `Seller_Type` included. Check the $R^2$ to see if you do any better."
      ]
    },
    {
      "cell_type": "code",
      "metadata": {
        "id": "TWIayxXADB_9"
      },
      "source": [
        "### YOUR CODE HERE\n",
        "\n",
        "### END CODE"
      ],
      "execution_count": null,
      "outputs": []
    },
    {
      "cell_type": "markdown",
      "metadata": {
        "id": "IMkNnu3jCsnB"
      },
      "source": [
        "# **✍️ Challenge Section: Finding The Best Deal**"
      ]
    },
    {
      "cell_type": "markdown",
      "metadata": {
        "id": "ldMwbTPVCyG7"
      },
      "source": [
        "Now that we've made a fit of each car's price using all the variables, we can now make predictions to compare each car's predicted price to its actual one. We can see which cars are a good deal, and which are overpriced.\n",
        "\n",
        "First, let's start by making predictions with the fit we just created earlier. Feel free to look up sklearn or sci-kit learn's documentation [here](https://scikit-learn.org/stable/modules/generated/sklearn.linear_model.LinearRegression.html)! \\\\\n",
        "(**Hint:** Try to find a method that lets you make predictions with your model.)\n",
        "\n",
        "Then, let's make a scatterplot of predicted vs. real prices, using pyplot methods."
      ]
    },
    {
      "cell_type": "code",
      "metadata": {
        "id": "qlaK1l05Dlp7"
      },
      "source": [
        "plt.plot([-5,15],[-5,15]) #Drawing in the line of equality so we can compare\n",
        "plt.title(\"Predicted vs. Real Prices\")\n",
        "plt.xlabel(\"Real price\")\n",
        "plt.ylabel(\"Predicted price\")\n",
        "#TODO: Make our predictions using the model we just created.\n",
        "prediction = None\n",
        "#TODO: Fill in code here to add a scatterplot of predicted vs. real prices\n",
        "\n",
        "plt.show()"
      ],
      "execution_count": null,
      "outputs": []
    },
    {
      "cell_type": "markdown",
      "metadata": {
        "id": "LOjEJfBbWler"
      },
      "source": [
        "### 💡 Discussion Question\n",
        "\n",
        "There are a few weird things about this graph. Discuss:\n",
        "* Which data points seem unusual? Which cars seem most overpriced, and which seem like the best deal?\n",
        "* Do the data \"look linear\" overall? Are predicted prices equally likely to lie above or below the true price, no matter where we are in the graph?\n",
        "* Some predicted prices seem impossible - which ones?\n",
        "\n",
        "\n"
      ]
    },
    {
      "cell_type": "markdown",
      "source": [
        "These issues suggest that, no matter what our $R^2$ says, linear regression might not be the best model for this situation. A more complex model could make more accurate predictions.\n",
        "\n",
        "For now, let's stick with our linear regression. Let's add our predicted prices on to our data frame:"
      ],
      "metadata": {
        "id": "DJYRp-5cmBz7"
      }
    },
    {
      "cell_type": "code",
      "metadata": {
        "id": "A4TzF-AdYCAs"
      },
      "source": [
        "pd.set_option('display.max_columns', 500)\n",
        "pd.set_option('display.width', 1000)\n",
        "\n",
        "car_data['Prediction'] = prediction\n",
        "print (car_data)"
      ],
      "execution_count": null,
      "outputs": []
    },
    {
      "cell_type": "markdown",
      "metadata": {
        "id": "l4aF4OJkYLSK"
      },
      "source": [
        "Now - assuming for now that the predicted scores are good ones - let's figure out the cars that are especially good or bad deals by comparing the real price to the predicted price.\n",
        "\n",
        "Come up with a way to calculate the \"Deal Score\", and add a new column to the data frame. A car with a high Deal Score has a low true cost compared to its predicted value, while a car with a low Deal Score is overpriced."
      ]
    },
    {
      "cell_type": "code",
      "metadata": {
        "id": "pwDx-C6xYdM8"
      },
      "source": [
        "car_data['deal_score'] = None #FILL IN HERE\n",
        "print (car_data)\n",
        "#You can experiment with different ways of defining it."
      ],
      "execution_count": null,
      "outputs": []
    },
    {
      "cell_type": "markdown",
      "metadata": {
        "id": "H-C3-WbDYnTz"
      },
      "source": [
        "Using the pandas sort_values function, identify the 10 most overpriced cars and the 10 cars that are the best deal."
      ]
    },
    {
      "cell_type": "code",
      "metadata": {
        "id": "nEPJ-OyNYIum"
      },
      "source": [
        "### YOUR CODE HERE\n",
        "\n",
        "best_deals = None\n",
        "most_overpriced = None\n",
        "### END CODE\n",
        "print (best_deals)\n",
        "print (most_overpriced)"
      ],
      "execution_count": null,
      "outputs": []
    },
    {
      "cell_type": "markdown",
      "metadata": {
        "id": "IQjcGZJiY9Fd"
      },
      "source": [
        "Here's the graphing code again from earlier. This time, plot the best deals in one color, the most overpriced cars in another color, and the other cars in a third color. Do your calculations align with your guesses from looking at the graph? What happens if you change your method of calculating the Deal Score?"
      ]
    },
    {
      "cell_type": "code",
      "metadata": {
        "id": "YiOKJzvnBbBp"
      },
      "source": [
        "plt.plot([-5,15],[-5,15]) #Drawing in the line of equality so we can compare\n",
        "plt.title(\"Predicted vs. Real Prices\")\n",
        "plt.xlabel(\"Real price\")\n",
        "plt.ylabel(\"Predicted price\")\n",
        "#Make a scatterplot with several colors:\n",
        "#Show 10 best deals in one color\n",
        "#Show 10 most overpriced in another color\n",
        "#Show the other cars in a third color\n",
        "plt.show()"
      ],
      "execution_count": null,
      "outputs": []
    },
    {
      "cell_type": "markdown",
      "metadata": {
        "id": "NQS_uAelaJYX"
      },
      "source": [
        "Congratulations! You've now identified the cars that are the best buy.\n",
        "\n",
        "... Or have you? Why might a car have a lower-than-predicted price, besides a seller making a mistake?\n",
        "\n",
        "What other data would you need to be really confident in your decision?"
      ]
    }
  ]
}